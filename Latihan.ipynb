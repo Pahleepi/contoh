{
  "nbformat": 4,
  "nbformat_minor": 0,
  "metadata": {
    "colab": {
      "provenance": [],
      "toc_visible": true,
      "authorship_tag": "ABX9TyM9E5qlVzxQgF7ms+kZ5DTc",
      "include_colab_link": true
    },
    "kernelspec": {
      "name": "python3",
      "display_name": "Python 3"
    },
    "language_info": {
      "name": "python"
    }
  },
  "cells": [
    {
      "cell_type": "markdown",
      "metadata": {
        "id": "view-in-github",
        "colab_type": "text"
      },
      "source": [
        "<a href=\"https://colab.research.google.com/github/Pahleepi/contoh/blob/main/Latihan.ipynb\" target=\"_parent\"><img src=\"https://colab.research.google.com/assets/colab-badge.svg\" alt=\"Open In Colab\"/></a>"
      ]
    },
    {
      "cell_type": "markdown",
      "source": [
        "# praktek 1"
      ],
      "metadata": {
        "id": "2xjQTG47zb4a"
      }
    },
    {
      "cell_type": "code",
      "execution_count": null,
      "metadata": {
        "colab": {
          "base_uri": "https://localhost:8080/"
        },
        "id": "zP0FqwAIgrzU",
        "outputId": "40cdc80b-12f5-465c-da76-a153e0b473bf"
      },
      "outputs": [
        {
          "output_type": "stream",
          "name": "stdout",
          "text": [
            "Masukkan angka untuk dihitung faktorialnya: 5\n",
            "Faktorial dari 5 adalah 120\n"
          ]
        }
      ],
      "source": [
        "def faktorial(n):\n",
        "    if n == 0 or n == 1:\n",
        "        return 1\n",
        "    else:\n",
        "        return n * faktorial(n - 1)\n",
        "\n",
        "# Input dari pengguna\n",
        "try:\n",
        "    angka = int(input(\"Masukkan angka untuk dihitung faktorialnya: \"))\n",
        "    if angka < 0:\n",
        "        print(\"Faktorial tidak terdefinisi untuk angka negatif.\")\n",
        "    else:\n",
        "        hasil = faktorial(angka)\n",
        "        print(f\"Faktorial dari {angka} adalah {hasil}\")\n",
        "except ValueError:\n",
        "    print(\"Masukkan angka bulat yang valid.\")\n"
      ]
    },
    {
      "cell_type": "markdown",
      "source": [
        "# praktek 2"
      ],
      "metadata": {
        "id": "bM4q6QsLzjmk"
      }
    },
    {
      "cell_type": "code",
      "source": [
        "# Inisialisasi list kosong\n",
        "nilai_siswa = []\n",
        "\n",
        "# Input nilai 5 siswa menggunakan loop\n",
        "for i in range(5):\n",
        "    while True:\n",
        "        try:\n",
        "            nilai = float(input(f\"Masukkan nilai siswa ke-{i+1}: \"))\n",
        "            if 0 <= nilai <= 100:\n",
        "                nilai_siswa.append(nilai)\n",
        "                break\n",
        "            else:\n",
        "                print(\"Nilai harus antara 0 sampai 100.\")\n",
        "        except ValueError:\n",
        "            print(\"Masukkan angka yang valid.\")\n",
        "\n",
        "# Mencari nilai tertinggi dan siswa keberapa yang mendapatkannya\n",
        "nilai_tertinggi = max(nilai_siswa)\n",
        "siswa_ke = nilai_siswa.index(nilai_tertinggi) + 1\n",
        "\n",
        "# Menampilkan hasil\n",
        "print(\"\\n=== Hasil ===\")\n",
        "print(f\"Nilai tertinggi adalah {nilai_tertinggi}\")\n",
        "print(f\"Didapat oleh siswa ke-{siswa_ke}\")\n"
      ],
      "metadata": {
        "colab": {
          "base_uri": "https://localhost:8080/"
        },
        "id": "MxXpLvOZznD7",
        "outputId": "aacf8a00-86dc-45b8-e4e1-247d8bcda272"
      },
      "execution_count": 1,
      "outputs": [
        {
          "output_type": "stream",
          "name": "stdout",
          "text": [
            "Masukkan nilai siswa ke-1: 80\n",
            "Masukkan nilai siswa ke-2: 59\n",
            "Masukkan nilai siswa ke-3: 78\n",
            "Masukkan nilai siswa ke-4: 81\n",
            "Masukkan nilai siswa ke-5: 75\n",
            "\n",
            "=== Hasil ===\n",
            "Nilai tertinggi adalah 81.0\n",
            "Didapat oleh siswa ke-4\n"
          ]
        }
      ]
    }
  ]
}